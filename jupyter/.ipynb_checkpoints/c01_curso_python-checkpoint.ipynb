{
 "cells": [
  {
   "cell_type": "markdown",
   "metadata": {},
   "source": [
    "# Introducción a Python: Primeros Pasos... </font>\n",
    "<img style=\"float: left; margin: 0px 0px 15px 15px;\" src=\"img/pycode.png\" width=\"150px\" height=\"100px\" />"
   ]
  },
  {
   "cell_type": "markdown",
   "metadata": {},
   "source": [
    "# 1. Sintaxis básica"
   ]
  },
  {
   "cell_type": "markdown",
   "metadata": {},
   "source": [
    "## 1.1 Asignación de variables\n",
    "\n",
    "Las variables en Python se crean cuando se definen por primera vez, es decir, cuando se les  asigna un valor por primera vez. Para asignar un valor a una variable se utiliza el operador  de igualdad (=). A la izquierda de la igualdad se escribe el nombre de la variable y a la  derecha el valor que se quiere dar a la variable."
   ]
  },
  {
   "cell_type": "code",
   "execution_count": null,
   "metadata": {},
   "outputs": [],
   "source": [
    "x = 5\n",
    "y = \"Hola\"\n",
    "\n",
    "\n",
    "print(x)\n",
    "print(y)"
   ]
  },
  {
   "cell_type": "markdown",
   "metadata": {},
   "source": [
    "En **una misma línea** se pueden definir simultáneamente varias variables, con el mismo  valor o con valores distintos."
   ]
  },
  {
   "cell_type": "code",
   "execution_count": null,
   "metadata": {},
   "outputs": [],
   "source": [
    "a, b, c = 125, \"Hola\", 6\n",
    "\n",
    "print(a)\n",
    "print(b)\n",
    "print(c)"
   ]
  },
  {
   "cell_type": "markdown",
   "metadata": {},
   "source": [
    "Se pueden modificar varias variables en una sola instrucción y la modificación se realiza en  un solo paso."
   ]
  },
  {
   "cell_type": "code",
   "execution_count": null,
   "metadata": {},
   "outputs": [],
   "source": [
    "a, b = 'Adios', 77 \n",
    "\n",
    "print(a)\n",
    "print(b)"
   ]
  },
  {
   "cell_type": "markdown",
   "metadata": {},
   "source": [
    "**Ejercicio #1**: Definir un variable que se llame \"horas\", al cual le asignaremos el valor de 15. A continuación, definir una variable que se llame \"minutos\", la cual use el valor de la variable \"horas\" y la transforme a minutos."
   ]
  },
  {
   "cell_type": "code",
   "execution_count": null,
   "metadata": {},
   "outputs": [],
   "source": [
    "horaS = 15.5\n",
    "minutos = horaS * 60\n",
    "\n",
    "print(minutos)"
   ]
  },
  {
   "cell_type": "markdown",
   "metadata": {},
   "source": [
    "# 1.1 Métodos en Objetos Nativos de Python"
   ]
  },
  {
   "cell_type": "markdown",
   "metadata": {},
   "source": [
    "Cierto tipo de variables permiten invocar unas funciones especiales: los denominados  métodos. En resumen son las acciones que podemos realizar con dicho objeto.\n",
    "\n",
    "Un método permite, por ejemplo, obtener una versión en minúsculas de una cadena de caracteres, pasar todos los caracteres a mayúsculas o pasar la inicial de cada palabra a mayúsculas (cammel case)."
   ]
  },
  {
   "cell_type": "code",
   "execution_count": null,
   "metadata": {},
   "outputs": [],
   "source": [
    "cadena = \"Bienvenido al curSO de PYTHOn\"\n",
    "print(cadena.lower())\n",
    "print(cadena.upper())\n",
    "print(cadena.title())\n",
    "\n",
    "daniel_direccion = 'arCoiris 755'\n",
    "daniel_direccion = daniel_direccion.lower()\n",
    "print(daniel_direccion)"
   ]
  },
  {
   "cell_type": "markdown",
   "metadata": {},
   "source": [
    "¿Cómo saber que tipo de variable estoy utilizando? Muy fácil... le pediremos apoyo a Python con la función **type()**"
   ]
  },
  {
   "cell_type": "code",
   "execution_count": null,
   "metadata": {},
   "outputs": [],
   "source": [
    "print( type(cadena) )\n",
    "x = 1.9\n",
    "print(type(x))\n",
    "\n",
    "print( cadena.isupper() )\n",
    "\n",
    "z = 'CURSO'\n",
    "print(z.islower())\n",
    "print(z.isupper())"
   ]
  },
  {
   "cell_type": "markdown",
   "metadata": {},
   "source": [
    "Si queremos saber que funciones tiene el objeto que estamos utilizando, ahora haremos uso de la función **help()**, ella nos dirá todo de todo..."
   ]
  },
  {
   "cell_type": "code",
   "execution_count": null,
   "metadata": {},
   "outputs": [],
   "source": [
    "help( type(cadena) )\n",
    "# x = 'hola,mundo'\n",
    "# y = x.split(',')\n",
    "# print(y)"
   ]
  },
  {
   "cell_type": "markdown",
   "metadata": {},
   "source": [
    "**Ejercicio #2**: ¿Es lo mismo definir una varible con el valor de 1.0 a una que con el valor de 1 solamente? Realiza esta investigación definiendo dos variables y preguntando a Python que tipo de objeto es cada una de ellas."
   ]
  },
  {
   "cell_type": "code",
   "execution_count": null,
   "metadata": {},
   "outputs": [],
   "source": [
    "x = 1\n",
    "y = 1.0\n",
    "\n",
    "print( type(x) == type(y) )\n",
    "print(x == y)"
   ]
  },
  {
   "cell_type": "markdown",
   "metadata": {},
   "source": [
    "Otra manera de hacerlo es a través de operadores de comparación, tal como lo vimos en las diapositivas previo a llegar a nuestro notebook de Jupyter. Por ejemplo:"
   ]
  },
  {
   "cell_type": "code",
   "execution_count": null,
   "metadata": {},
   "outputs": [],
   "source": [
    "nombre_1 = \"Pancho Villa\"\n",
    "nombre_2 = \"Emiliano Zapata\"\n",
    "\n",
    "print(type(nombre_1) == type(nombre_2))\n",
    "print(nombre_1 == nombre_2)"
   ]
  },
  {
   "cell_type": "markdown",
   "metadata": {},
   "source": [
    "___\n",
    "Hoy vimos:\n",
    "- Asignación de Variables\n",
    "- Uso de operadores básicos aritméticos\n",
    "- Concepto fugaz sobre que es un método y como invocar sus funcionalidades\n",
    "- Como pedir ayuda a Python\n",
    "- Concepto inicial de comparadores"
   ]
  },
  {
   "cell_type": "markdown",
   "metadata": {},
   "source": [
    "<script>\n",
    "  $(document).ready(function(){\n",
    "    $('div.prompt').hide();\n",
    "    $('div.back-to-top').hide();\n",
    "    $('nav#menubar').hide();\n",
    "    $('.breadcrumb').hide();\n",
    "    $('.hidden-print').hide();\n",
    "  });\n",
    "</script>\n",
    "\n",
    "<footer id=\"attribution\" style=\"float:right; color:#808080; background:#fff;\">\n",
    "Created with Jupyter by Ramón López Escudero.\n",
    "</footer>"
   ]
  }
 ],
 "metadata": {
  "kernelspec": {
   "display_name": "Python 3 (ipykernel)",
   "language": "python",
   "name": "python3"
  },
  "language_info": {
   "codemirror_mode": {
    "name": "ipython",
    "version": 3
   },
   "file_extension": ".py",
   "mimetype": "text/x-python",
   "name": "python",
   "nbconvert_exporter": "python",
   "pygments_lexer": "ipython3",
   "version": "3.9.13"
  }
 },
 "nbformat": 4,
 "nbformat_minor": 4
}
